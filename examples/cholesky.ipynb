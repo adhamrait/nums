{
 "cells": [
  {
   "cell_type": "code",
   "execution_count": 1,
   "metadata": {},
   "outputs": [],
   "source": [
    "import numpy as np\n",
    "from cholesky import *\n",
    "# import sys\n",
    "# default_stdout = sys.stdout\n",
    "# default_stderr = sys.stderr\n",
    "# import importlib\n",
    "# importlib.reload(sys)\n",
    "# sys.stdout = default_stdout\n",
    "# sys.stderr = default_stderr\n",
    "# sys.setdefaultencoding('utf-8')\n"
   ]
  },
  {
   "cell_type": "code",
   "execution_count": 2,
   "metadata": {},
   "outputs": [
    {
     "data": {
      "text/plain": [
       "array([[11., 10., 10., 10., 10., 10., 10., 10., 10., 10.],\n",
       "       [10., 11., 10., 10., 10., 10., 10., 10., 10., 10.],\n",
       "       [10., 10., 11., 10., 10., 10., 10., 10., 10., 10.],\n",
       "       [10., 10., 10., 11., 10., 10., 10., 10., 10., 10.],\n",
       "       [10., 10., 10., 10., 11., 10., 10., 10., 10., 10.],\n",
       "       [10., 10., 10., 10., 10., 11., 10., 10., 10., 10.],\n",
       "       [10., 10., 10., 10., 10., 10., 11., 10., 10., 10.],\n",
       "       [10., 10., 10., 10., 10., 10., 10., 11., 10., 10.],\n",
       "       [10., 10., 10., 10., 10., 10., 10., 10., 11., 10.],\n",
       "       [10., 10., 10., 10., 10., 10., 10., 10., 10., 11.]])"
      ]
     },
     "execution_count": 2,
     "metadata": {},
     "output_type": "execute_result"
    }
   ],
   "source": [
    "n = 10\n",
    "A = np.ones((n,n))\n",
    "A = A.T @ A\n",
    "A = A + np.eye(n)\n",
    "A"
   ]
  },
  {
   "cell_type": "code",
   "execution_count": 3,
   "metadata": {},
   "outputs": [
    {
     "data": {
      "text/plain": [
       "array([[3.31662479, 3.01511345, 3.01511345, 3.01511345, 3.01511345,\n",
       "        3.01511345, 3.01511345, 3.01511345, 3.01511345, 3.01511345],\n",
       "       [0.        , 1.38169856, 0.65795169, 0.65795169, 0.65795169,\n",
       "        0.65795169, 0.65795169, 0.65795169, 0.65795169, 0.65795169],\n",
       "       [0.        , 0.        , 1.21498579, 0.3919309 , 0.3919309 ,\n",
       "        0.3919309 , 0.3919309 , 0.3919309 , 0.3919309 , 0.3919309 ],\n",
       "       [0.        , 0.        , 0.        , 1.15003506, 0.28049636,\n",
       "        0.28049636, 0.28049636, 0.28049636, 0.28049636, 0.28049636],\n",
       "       [0.        , 0.        , 0.        , 0.        , 1.11530374,\n",
       "        0.21868701, 0.21868701, 0.21868701, 0.21868701, 0.21868701],\n",
       "       [0.        , 0.        , 0.        , 0.        , 0.        ,\n",
       "        1.09365371, 0.17928749, 0.17928749, 0.17928749, 0.17928749],\n",
       "       [0.        , 0.        , 0.        , 0.        , 0.        ,\n",
       "        0.        , 1.07885793, 0.15195182, 0.15195182, 0.15195182],\n",
       "       [0.        , 0.        , 0.        , 0.        , 0.        ,\n",
       "        0.        , 0.        , 1.06810349, 0.13186463, 0.13186463],\n",
       "       [0.        , 0.        , 0.        , 0.        , 0.        ,\n",
       "        0.        , 0.        , 0.        , 1.05993245, 0.11647609],\n",
       "       [0.        , 0.        , 0.        , 0.        , 0.        ,\n",
       "        0.        , 0.        , 0.        , 0.        , 1.05351322]])"
      ]
     },
     "execution_count": 3,
     "metadata": {},
     "output_type": "execute_result"
    }
   ],
   "source": [
    "scipy_cholesky(A)"
   ]
  },
  {
   "cell_type": "code",
   "execution_count": 4,
   "metadata": {},
   "outputs": [
    {
     "data": {
      "text/plain": [
       "array([[3.31662479, 3.01511345, 3.01511345, 3.01511345, 3.01511345,\n",
       "        3.01511345, 3.01511345, 3.01511345, 3.01511345, 3.01511345],\n",
       "       [0.        , 1.38169856, 0.65795169, 0.65795169, 0.65795169,\n",
       "        0.65795169, 0.65795169, 0.65795169, 0.65795169, 0.65795169],\n",
       "       [0.        , 0.        , 1.21498579, 0.3919309 , 0.3919309 ,\n",
       "        0.3919309 , 0.3919309 , 0.3919309 , 0.3919309 , 0.3919309 ],\n",
       "       [0.        , 0.        , 0.        , 1.15003506, 0.28049636,\n",
       "        0.28049636, 0.28049636, 0.28049636, 0.28049636, 0.28049636],\n",
       "       [0.        , 0.        , 0.        , 0.        , 1.11530374,\n",
       "        0.21868701, 0.21868701, 0.21868701, 0.21868701, 0.21868701],\n",
       "       [0.        , 0.        , 0.        , 0.        , 0.        ,\n",
       "        1.09365371, 0.17928749, 0.17928749, 0.17928749, 0.17928749],\n",
       "       [0.        , 0.        , 0.        , 0.        , 0.        ,\n",
       "        0.        , 1.07885793, 0.15195182, 0.15195182, 0.15195182],\n",
       "       [0.        , 0.        , 0.        , 0.        , 0.        ,\n",
       "        0.        , 0.        , 1.06810349, 0.13186463, 0.13186463],\n",
       "       [0.        , 0.        , 0.        , 0.        , 0.        ,\n",
       "        0.        , 0.        , 0.        , 1.05993245, 0.11647609],\n",
       "       [0.        , 0.        , 0.        , 0.        , 0.        ,\n",
       "        0.        , 0.        , 0.        , 0.        , 1.05351322]])"
      ]
     },
     "execution_count": 4,
     "metadata": {},
     "output_type": "execute_result"
    }
   ],
   "source": [
    "from cholesky import *\n",
    "raw_cholesky(A)"
   ]
  },
  {
   "cell_type": "code",
   "execution_count": 5,
   "metadata": {},
   "outputs": [
    {
     "name": "stdout",
     "output_type": "stream",
     "text": [
      "Error is 2.0872192862952943e-14\n"
     ]
    },
    {
     "data": {
      "text/plain": [
       "array([[3.31662479, 3.01511345, 3.01511345, 3.01511345, 3.01511345,\n",
       "        3.01511345, 3.01511345, 3.01511345, 3.01511345, 3.01511345],\n",
       "       [0.        , 1.38169856, 0.65795169, 0.65795169, 0.65795169,\n",
       "        0.65795169, 0.65795169, 0.65795169, 0.65795169, 0.65795169],\n",
       "       [0.        , 0.        , 1.21498579, 0.3919309 , 0.3919309 ,\n",
       "        0.3919309 , 0.3919309 , 0.3919309 , 0.3919309 , 0.3919309 ],\n",
       "       [0.        , 0.        , 0.        , 1.15003506, 0.28049636,\n",
       "        0.28049636, 0.28049636, 0.28049636, 0.28049636, 0.28049636],\n",
       "       [0.        , 0.        , 0.        , 0.        , 1.11530374,\n",
       "        0.21868701, 0.21868701, 0.21868701, 0.21868701, 0.21868701],\n",
       "       [0.        , 0.        , 0.        , 0.        , 0.        ,\n",
       "        1.09365371, 0.17928749, 0.17928749, 0.17928749, 0.17928749],\n",
       "       [0.        , 0.        , 0.        , 0.        , 0.        ,\n",
       "        0.        , 1.07885793, 0.15195182, 0.15195182, 0.15195182],\n",
       "       [0.        , 0.        , 0.        , 0.        , 0.        ,\n",
       "        0.        , 0.        , 1.06810349, 0.13186463, 0.13186463],\n",
       "       [0.        , 0.        , 0.        , 0.        , 0.        ,\n",
       "        0.        , 0.        , 0.        , 1.05993245, 0.11647609],\n",
       "       [0.        , 0.        , 0.        , 0.        , 0.        ,\n",
       "        0.        , 0.        , 0.        , 0.        , 1.05351322]])"
      ]
     },
     "execution_count": 5,
     "metadata": {},
     "output_type": "execute_result"
    }
   ],
   "source": [
    "from cholesky import *\n",
    "print(\"Error is\",np.sum(np.abs(cholesky_blk(A) - scipy_cholesky(A))))\n",
    "cholesky_blk(A)"
   ]
  },
  {
   "cell_type": "code",
   "execution_count": 6,
   "metadata": {},
   "outputs": [
    {
     "name": "stdout",
     "output_type": "stream",
     "text": [
      "Error is 2.0872192862952943e-14\n"
     ]
    },
    {
     "data": {
      "text/plain": [
       "array([[3.31662479, 3.01511345, 3.01511345, 3.01511345, 3.01511345,\n",
       "        3.01511345, 3.01511345, 3.01511345, 3.01511345, 3.01511345],\n",
       "       [0.        , 1.38169856, 0.65795169, 0.65795169, 0.65795169,\n",
       "        0.65795169, 0.65795169, 0.65795169, 0.65795169, 0.65795169],\n",
       "       [0.        , 0.        , 1.21498579, 0.3919309 , 0.3919309 ,\n",
       "        0.3919309 , 0.3919309 , 0.3919309 , 0.3919309 , 0.3919309 ],\n",
       "       [0.        , 0.        , 0.        , 1.15003506, 0.28049636,\n",
       "        0.28049636, 0.28049636, 0.28049636, 0.28049636, 0.28049636],\n",
       "       [0.        , 0.        , 0.        , 0.        , 1.11530374,\n",
       "        0.21868701, 0.21868701, 0.21868701, 0.21868701, 0.21868701],\n",
       "       [0.        , 0.        , 0.        , 0.        , 0.        ,\n",
       "        1.09365371, 0.17928749, 0.17928749, 0.17928749, 0.17928749],\n",
       "       [0.        , 0.        , 0.        , 0.        , 0.        ,\n",
       "        0.        , 1.07885793, 0.15195182, 0.15195182, 0.15195182],\n",
       "       [0.        , 0.        , 0.        , 0.        , 0.        ,\n",
       "        0.        , 0.        , 1.06810349, 0.13186463, 0.13186463],\n",
       "       [0.        , 0.        , 0.        , 0.        , 0.        ,\n",
       "        0.        , 0.        , 0.        , 1.05993245, 0.11647609],\n",
       "       [0.        , 0.        , 0.        , 0.        , 0.        ,\n",
       "        0.        , 0.        , 0.        , 0.        , 1.05351322]])"
      ]
     },
     "execution_count": 6,
     "metadata": {},
     "output_type": "execute_result"
    }
   ],
   "source": [
    "print(\"Error is\",np.sum(np.abs(cholesky_blk_nonzero(A) - scipy_cholesky(A))))\n",
    "cholesky_blk_nonzero(A)"
   ]
  },
  {
   "cell_type": "code",
   "execution_count": 7,
   "metadata": {},
   "outputs": [
    {
     "name": "stdout",
     "output_type": "stream",
     "text": [
      "[[0.0596284  0.306581   0.21321215 0.16491701]\n",
      " [0.83676315 0.87970438 0.50471328 0.10545298]\n",
      " [0.42470141 0.87959472 0.25862812 0.66924339]\n",
      " [0.39831821 0.10661122 0.44504298 0.90699166]]\n"
     ]
    }
   ],
   "source": [
    "settings.system_name = \"serial\"\n",
    "app: ArrayApplication = instance()\n",
    "system: System = app.system\n",
    "\n",
    "# r = system.newfun(1, 2, syskwargs={\"grid_entry\": (0, 0),\n",
    "#                                    \"grid_shape\": (1, 1)})\n",
    "# print(system.get(r))\n",
    "\n",
    "\n",
    "X: BlockArray = app.random.random(shape=(16,), block_shape=(16,)).reshape((4, 4), block_shape=(2, 2))\n",
    "Y: BlockArray = app.random.random(shape=(4, 4), block_shape=(2, 2))\n",
    "\n",
    "print(X.get())\n",
    "\n",
    "grid: ArrayGrid = X.grid.copy()\n",
    "result: BlockArray = BlockArray(grid, system)"
   ]
  },
  {
   "cell_type": "code",
   "execution_count": 8,
   "metadata": {},
   "outputs": [],
   "source": [
    "# for grid_entry in grid.get_entry_iterator():\n",
    "#     x: Block = X.blocks[grid_entry]\n",
    "#     y: Block = Y.blocks[grid_entry]\n",
    "#     r: Block = result.blocks[grid_entry]\n",
    "#     r.oid = system.add(x.oid, y.oid, syskwargs={\n",
    "#         \"grid_entry\": grid_entry,\n",
    "#         \"grid_shape\": grid.grid_shape\n",
    "#     })\n",
    "\n",
    "# print(bool(app.allclose(result, X+Y)))"
   ]
  },
  {
   "cell_type": "code",
   "execution_count": 9,
   "metadata": {},
   "outputs": [],
   "source": [
    "# cluster_shape = np.array(settings.cluster_shape)\n",
    "# for grid_entry in grid.get_entry_iterator():\n",
    "#     x: Block = X.blocks[grid_entry]\n",
    "#     y: Block = Y.blocks[grid_entry]\n",
    "#     r: Block = result.blocks[grid_entry]\n",
    "#     cluster_entry = tuple(np.array(grid_entry) % cluster_shape)\n",
    "#     print(grid_entry, cluster_entry, cluster_shape)\n",
    "#     options = system.get_options(cluster_entry=cluster_entry, cluster_shape=cluster_shape)\n",
    "#     r.oid = system.call_with_options(\"add\",\n",
    "#                                      args=(x.oid, y.oid),\n",
    "#                                      kwargs={}, options=options)\n",
    "\n",
    "# print(bool(app.allclose(result, X+Y)))\n"
   ]
  },
  {
   "cell_type": "code",
   "execution_count": 17,
   "metadata": {},
   "outputs": [],
   "source": [
    "def cholesky_nums(self,X):\n",
    "    assert X.shape[0] == X.shape[1], \"This function only accepts square matrices\"\n",
    "    assert X.block_shape[0] == X.block_shape[1], \"This function only accepts square blocks\"\n",
    "    assert X.shape[0] % X.block_shape[0] == 0, \"This function only accepts blocks divisble by size of matrix\"\n",
    "    single_block = X.shape[0] == X.block_shape[0] and X.shape[1] == X.block_shape[1]\n",
    "\n",
    "    # Setup metadata\n",
    "    full_shape = X.shape\n",
    "    grid_shape = X.grid.grid_shape\n",
    "    block_shape = X.block_shape\n",
    "\n",
    "    n,b = full_shape[0], block_shape[0]\n",
    "    num_blocks = grid_shape[0]\n",
    "    grid = X.grid.copy()\n",
    "    if single_block:\n",
    "        # only one block means we do regular cholesky\n",
    "        A_TL = self.cholesky(X).T\n",
    "    else:\n",
    "        # Must do blocked cholesky\n",
    "\n",
    "        # cholesky on A_TL\n",
    "        A_TL = BlockArray.from_blocks(X.blocks[:1, :1],(b,b), self.system)\n",
    "        A_TL = self.cholesky(A_TL).T\n",
    "\n",
    "        # A_TR = inv(A_TL).T @ A_TR\n",
    "        A_TR = BlockArray.from_blocks(X.blocks[:1, 1:], (b,n-b), self.system)\n",
    "        A_TL_inv_T = self.inv(A_TL).T\n",
    "        A_TR = A_TL_inv_T @ A_TR\n",
    "\n",
    "        # A_BR = A_BR - A_TR.T @ A_TR\n",
    "        A_BR = BlockArray.from_blocks(X.blocks[1:, 1:],(n-b,n-b), self.system)\n",
    "        A_BR = A_BR - (A_TR.T @ A_TR)\n",
    "\n",
    "        while A_TL.shape[0] < n:\n",
    "            A_TL_size = A_TL.shape[0]\n",
    "            A_00 = A_TL\n",
    "            if A_TL.shape[0] == n-b:\n",
    "                print(\"Final iteration\")\n",
    "                print(\"A_TL size is {}\".format(A_TL.shape))\n",
    "                print(\"A_TR size is {}\".format(A_TR.shape))\n",
    "                print(\"A_BR size is {}\".format(A_BR.shape))\n",
    "                A_01 = A_TR\n",
    "                A_11 = self.cholesky(A_BR).T\n",
    "                A_TL = self.zeros((A_TL_size+b,A_TL_size+b),block_shape)\n",
    "                for i in range(A_TL_size // b):\n",
    "                    for j in range(A_TL_size // b):\n",
    "                        A_TL.blocks[i,j].oid = A_00.blocks[i,j].oid\n",
    "\n",
    "                for i in range(A_TL_size // b):\n",
    "                    A_TL.blocks[i,A_TL_size//b].oid = A_01.blocks[i,0].oid\n",
    "                A_TL.blocks[A_TL_size//b,A_TL_size//b].oid = A_11.blocks[0,0].oid\n",
    "                print(\"Final iteration done\")\n",
    "                print(\"A_TL size is {}\".format(A_TL.shape))\n",
    "            else:\n",
    "                A_01 = BlockArray.from_blocks(A_TR.blocks[:, :1], (A_TL_size,b), self.system)\n",
    "                A_02 = BlockArray.from_blocks(A_TR.blocks[:, 1:], (A_TL_size,n-A_TL_size-b), self.system)\n",
    "                A_11 = BlockArray.from_blocks(A_BR.blocks[:1, :1], (b,b), self.system)\n",
    "                A_12 = BlockArray.from_blocks(A_BR.blocks[:1, 1:], (b,n-A_TL_size-b), self.system)\n",
    "                A_22 = BlockArray.from_blocks(A_BR.blocks[1:, 1:], (n-A_TL_size-b,n-A_TL_size-b), self.system)\n",
    "\n",
    "                A_11 = self.cholesky(A_11).T\n",
    "\n",
    "                A_11_inv_T = self.inv(A_11).T\n",
    "                A_12 = A_11_inv_T @ A_12\n",
    "\n",
    "                A_22 = A_22 - A_12.T @ A_12\n",
    "\n",
    "                # Get new A_TL, A_TR, A_BR\n",
    "                A_TL = self.zeros((A_TL_size+b,A_TL_size+b),block_shape)\n",
    "                A_TR = self.zeros((A_TL_size+b,n-A_TL_size-b),block_shape)\n",
    "\n",
    "                for i in range(A_TL_size // b):\n",
    "                    for j in range(A_TL_size // b):\n",
    "                        A_TL.blocks[i,j].oid = A_00.blocks[i,j].oid\n",
    "\n",
    "                for i in range(A_TL_size // b):\n",
    "                    A_TL.blocks[i,A_TL_size//b].oid = A_01.blocks[i,0].oid\n",
    "\n",
    "                A_TL.blocks[A_TL_size//b,A_TL_size//b].oid = A_11.blocks[0,0].oid\n",
    "\n",
    "                for i in range(A_TL_size // b):\n",
    "                    for j in range((n-A_TL_size-b)//b):\n",
    "                        A_TR.blocks[i,j].oid = A_02.blocks[i,j].oid\n",
    "\n",
    "                for j in range((n-A_TL_size-b)//b):\n",
    "                    A_TR.blocks[A_TL_size // b,j].oid = A_12.blocks[0,j].oid\n",
    "\n",
    "                A_BR = A_22\n",
    "                print(\"One iteration done\")\n",
    "                print(\"A_TL size is {}\".format(A_TL.shape))\n",
    "                print(\"A_TR size is {}\".format(A_TR.shape))\n",
    "                print(\"A_BR size is {}\".format(A_BR.shape))\n",
    "    return A_TL"
   ]
  },
  {
   "cell_type": "code",
   "execution_count": 18,
   "metadata": {},
   "outputs": [],
   "source": [
    "# A: BlockArray = app.ones(shape=(4,4), block_shape=(4,4))\n",
    "# A = A.T @ A + app.eye(shape=(4,4), block_shape=(4,4))\n",
    "# A.blocks"
   ]
  },
  {
   "cell_type": "code",
   "execution_count": 19,
   "metadata": {},
   "outputs": [],
   "source": [
    "# app = instance()\n",
    "# app.cholesky(A)"
   ]
  },
  {
   "cell_type": "code",
   "execution_count": 20,
   "metadata": {},
   "outputs": [],
   "source": [
    "# app.cholesky_nums(A)"
   ]
  },
  {
   "cell_type": "code",
   "execution_count": 21,
   "metadata": {},
   "outputs": [],
   "source": [
    "A: BlockArray = app.ones(shape=(8,8), block_shape=(4,4))\n",
    "A = A.T @ A + app.eye(shape=(8,8), block_shape=(4,4))\n",
    "# A.blocks"
   ]
  },
  {
   "cell_type": "code",
   "execution_count": 22,
   "metadata": {},
   "outputs": [
    {
     "data": {
      "text/plain": [
       "array([[Block([[3.         0.         0.         0.        ]\n",
       " [2.66666667 1.37436854 0.         0.        ]\n",
       " [2.66666667 0.64676167 1.21267813 0.        ]\n",
       " [2.66666667 0.64676167 0.388057   1.14891253]]),\n",
       "        Block([[2.66666667 0.64676167 0.388057   0.27852425]\n",
       " [2.66666667 0.64676167 0.388057   0.27852425]\n",
       " [2.66666667 0.64676167 0.388057   0.27852425]\n",
       " [2.66666667 0.64676167 0.388057   0.27852425]])],\n",
       "       [Block([[0. 0. 0. 0.]\n",
       " [0. 0. 0. 0.]\n",
       " [0. 0. 0. 0.]\n",
       " [0. 0. 0. 0.]]),\n",
       "        Block([[1.11464086 0.         0.         0.        ]\n",
       " [0.2174909  1.09321633 0.         0.        ]\n",
       " [0.2174909  0.1784843  1.07854778 0.        ]\n",
       " [0.2174909  0.1784843  0.15137513 1.06787213]])]], dtype=object)"
      ]
     },
     "execution_count": 22,
     "metadata": {},
     "output_type": "execute_result"
    }
   ],
   "source": [
    "app.cholesky(A).T.blocks"
   ]
  },
  {
   "cell_type": "code",
   "execution_count": 23,
   "metadata": {},
   "outputs": [
    {
     "name": "stdout",
     "output_type": "stream",
     "text": [
      "Final iteration\n",
      "A_TL size is (4, 4)\n",
      "A_TR size is (4, 4)\n",
      "A_BR size is (4, 4)\n",
      "Final iteration done\n",
      "A_TL size is (8, 8)\n"
     ]
    },
    {
     "data": {
      "text/plain": [
       "BlockArray([[Block([[3.         0.         0.         0.        ]\n",
       " [2.66666667 1.37436854 0.         0.        ]\n",
       " [2.66666667 0.64676167 1.21267813 0.        ]\n",
       " [2.66666667 0.64676167 0.388057   1.14891253]])\n",
       "  Block([[2.66666667 2.66666667 2.66666667 2.66666667]\n",
       " [0.64676167 0.64676167 0.64676167 0.64676167]\n",
       " [0.388057   0.388057   0.388057   0.388057  ]\n",
       " [0.27852425 0.27852425 0.27852425 0.27852425]])]\n",
       " [Block([[0. 0. 0. 0.]\n",
       " [0. 0. 0. 0.]\n",
       " [0. 0. 0. 0.]\n",
       " [0. 0. 0. 0.]])\n",
       "  Block([[1.11464086 0.         0.         0.        ]\n",
       " [0.2174909  1.09321633 0.         0.        ]\n",
       " [0.2174909  0.1784843  1.07854778 0.        ]\n",
       " [0.2174909  0.1784843  0.15137513 1.06787213]])]])"
      ]
     },
     "execution_count": 23,
     "metadata": {},
     "output_type": "execute_result"
    }
   ],
   "source": [
    "cholesky_nums(app,A)"
   ]
  },
  {
   "cell_type": "code",
   "execution_count": 24,
   "metadata": {},
   "outputs": [],
   "source": [
    "A: BlockArray = app.ones(shape=(16,16), block_shape=(4,4))\n",
    "A = A.T @ A + app.eye(shape=(16,16), block_shape=(4,4))"
   ]
  },
  {
   "cell_type": "code",
   "execution_count": 27,
   "metadata": {},
   "outputs": [
    {
     "data": {
      "text/plain": [
       "array([[Block([[4.12310563 0.         0.         0.        ]\n",
       " [3.88057    1.39326109 0.         0.        ]\n",
       " [3.88057    0.67552053 1.21854359 0.        ]\n",
       " [3.88057    0.67552053 0.39789179 1.15175111]]),\n",
       "        Block([[3.88057    0.67552053 0.39789179 0.28350796]\n",
       " [3.88057    0.67552053 0.39789179 0.28350796]\n",
       " [3.88057    0.67552053 0.39789179 0.28350796]\n",
       " [3.88057    0.67552053 0.39789179 0.28350796]]),\n",
       "        Block([[3.88057    0.67552053 0.39789179 0.28350796]\n",
       " [3.88057    0.67552053 0.39789179 0.28350796]\n",
       " [3.88057    0.67552053 0.39789179 0.28350796]\n",
       " [3.88057    0.67552053 0.39789179 0.28350796]]),\n",
       "        Block([[3.88057    0.67552053 0.39789179 0.28350796]\n",
       " [3.88057    0.67552053 0.39789179 0.28350796]\n",
       " [3.88057    0.67552053 0.39789179 0.28350796]\n",
       " [3.88057    0.67552053 0.39789179 0.28350796]])],\n",
       "       [Block([[0. 0. 0. 0.]\n",
       " [0. 0. 0. 0.]\n",
       " [0. 0. 0. 0.]\n",
       " [0. 0. 0. 0.]]),\n",
       "        Block([[1.11631261 0.         0.         0.        ]\n",
       " [0.22050619 1.09431753 0.         0.        ]\n",
       " [0.22050619 0.18050598 1.07932778 0.        ]\n",
       " [0.22050619 0.18050598 0.15282517 1.06845352]]),\n",
       "        Block([[0.22050619 0.18050598 0.15282517 0.13252137]\n",
       " [0.22050619 0.18050598 0.15282517 0.13252137]\n",
       " [0.22050619 0.18050598 0.15282517 0.13252137]\n",
       " [0.22050619 0.18050598 0.15282517 0.13252137]]),\n",
       "        Block([[0.22050619 0.18050598 0.15282517 0.13252137]\n",
       " [0.22050619 0.18050598 0.15282517 0.13252137]\n",
       " [0.22050619 0.18050598 0.15282517 0.13252137]\n",
       " [0.22050619 0.18050598 0.15282517 0.13252137]])],\n",
       "       [Block([[0. 0. 0. 0.]\n",
       " [0. 0. 0. 0.]\n",
       " [0. 0. 0. 0.]\n",
       " [0. 0. 0. 0.]]),\n",
       "        Block([[0. 0. 0. 0.]\n",
       " [0. 0. 0. 0.]\n",
       " [0. 0. 0. 0.]\n",
       " [0. 0. 0. 0.]]),\n",
       "        Block([[1.06020329 0.         0.         0.        ]\n",
       " [0.11698795 1.05372901 0.         0.        ]\n",
       " [0.11698795 0.10471841 1.0485127  0.        ]\n",
       " [0.11698795 0.10471841 0.09478081 1.04422003]]),\n",
       "        Block([[0.11698795 0.10471841 0.09478081 0.08656746]\n",
       " [0.11698795 0.10471841 0.09478081 0.08656746]\n",
       " [0.11698795 0.10471841 0.09478081 0.08656746]\n",
       " [0.11698795 0.10471841 0.09478081 0.08656746]])],\n",
       "       [Block([[0. 0. 0. 0.]\n",
       " [0. 0. 0. 0.]\n",
       " [0. 0. 0. 0.]\n",
       " [0. 0. 0. 0.]]),\n",
       "        Block([[0. 0. 0. 0.]\n",
       " [0. 0. 0. 0.]\n",
       " [0. 0. 0. 0.]\n",
       " [0. 0. 0. 0.]]),\n",
       "        Block([[0. 0. 0. 0.]\n",
       " [0. 0. 0. 0.]\n",
       " [0. 0. 0. 0.]\n",
       " [0. 0. 0. 0.]]),\n",
       "        Block([[1.04062556 0.         0.         0.        ]\n",
       " [0.07966511 1.0375717  0.         0.        ]\n",
       " [0.07966511 0.07378288 1.03494498 0.        ]\n",
       " [0.07966511 0.07378288 0.06871004 1.03266163]])]], dtype=object)"
      ]
     },
     "execution_count": 27,
     "metadata": {},
     "output_type": "execute_result"
    }
   ],
   "source": [
    "app.cholesky(A).T.blocks"
   ]
  },
  {
   "cell_type": "code",
   "execution_count": 28,
   "metadata": {},
   "outputs": [
    {
     "name": "stdout",
     "output_type": "stream",
     "text": [
      "One iteration done\n",
      "A_TL size is (8, 8)\n",
      "A_TR size is (8, 8)\n",
      "A_BR size is (8, 8)\n",
      "One iteration done\n",
      "A_TL size is (12, 12)\n",
      "A_TR size is (12, 4)\n",
      "A_BR size is (4, 4)\n",
      "Final iteration\n",
      "A_TL size is (12, 12)\n",
      "A_TR size is (12, 4)\n",
      "A_BR size is (4, 4)\n",
      "Final iteration done\n",
      "A_TL size is (16, 16)\n"
     ]
    },
    {
     "data": {
      "text/plain": [
       "BlockArray([[Block([[4.12310563 0.         0.         0.        ]\n",
       " [3.88057    1.39326109 0.         0.        ]\n",
       " [3.88057    0.67552053 1.21854359 0.        ]\n",
       " [3.88057    0.67552053 0.39789179 1.15175111]])\n",
       "  Block([[3.88057    3.88057    3.88057    3.88057   ]\n",
       " [0.67552053 0.67552053 0.67552053 0.67552053]\n",
       " [0.39789179 0.39789179 0.39789179 0.39789179]\n",
       " [0.28350796 0.28350796 0.28350796 0.28350796]])\n",
       "  Block([[3.88057    3.88057    3.88057    3.88057   ]\n",
       " [0.67552053 0.67552053 0.67552053 0.67552053]\n",
       " [0.39789179 0.39789179 0.39789179 0.39789179]\n",
       " [0.28350796 0.28350796 0.28350796 0.28350796]])\n",
       "  Block([[3.88057    3.88057    3.88057    3.88057   ]\n",
       " [0.67552053 0.67552053 0.67552053 0.67552053]\n",
       " [0.39789179 0.39789179 0.39789179 0.39789179]\n",
       " [0.28350796 0.28350796 0.28350796 0.28350796]])]\n",
       " [Block([[0. 0. 0. 0.]\n",
       " [0. 0. 0. 0.]\n",
       " [0. 0. 0. 0.]\n",
       " [0. 0. 0. 0.]])\n",
       "  Block([[1.11631261 0.         0.         0.        ]\n",
       " [0.22050619 1.09431753 0.         0.        ]\n",
       " [0.22050619 0.18050598 1.07932778 0.        ]\n",
       " [0.22050619 0.18050598 0.15282517 1.06845352]])\n",
       "  Block([[0.22050619 0.22050619 0.22050619 0.22050619]\n",
       " [0.18050598 0.18050598 0.18050598 0.18050598]\n",
       " [0.15282517 0.15282517 0.15282517 0.15282517]\n",
       " [0.13252137 0.13252137 0.13252137 0.13252137]])\n",
       "  Block([[0.22050619 0.22050619 0.22050619 0.22050619]\n",
       " [0.18050598 0.18050598 0.18050598 0.18050598]\n",
       " [0.15282517 0.15282517 0.15282517 0.15282517]\n",
       " [0.13252137 0.13252137 0.13252137 0.13252137]])]\n",
       " [Block([[0. 0. 0. 0.]\n",
       " [0. 0. 0. 0.]\n",
       " [0. 0. 0. 0.]\n",
       " [0. 0. 0. 0.]])\n",
       "  Block([[0. 0. 0. 0.]\n",
       " [0. 0. 0. 0.]\n",
       " [0. 0. 0. 0.]\n",
       " [0. 0. 0. 0.]])\n",
       "  Block([[1.06020329 0.         0.         0.        ]\n",
       " [0.11698795 1.05372901 0.         0.        ]\n",
       " [0.11698795 0.10471841 1.0485127  0.        ]\n",
       " [0.11698795 0.10471841 0.09478081 1.04422003]])\n",
       "  Block([[0.11698795 0.11698795 0.11698795 0.11698795]\n",
       " [0.10471841 0.10471841 0.10471841 0.10471841]\n",
       " [0.09478081 0.09478081 0.09478081 0.09478081]\n",
       " [0.08656746 0.08656746 0.08656746 0.08656746]])]\n",
       " [Block([[0. 0. 0. 0.]\n",
       " [0. 0. 0. 0.]\n",
       " [0. 0. 0. 0.]\n",
       " [0. 0. 0. 0.]])\n",
       "  Block([[0. 0. 0. 0.]\n",
       " [0. 0. 0. 0.]\n",
       " [0. 0. 0. 0.]\n",
       " [0. 0. 0. 0.]])\n",
       "  Block([[0. 0. 0. 0.]\n",
       " [0. 0. 0. 0.]\n",
       " [0. 0. 0. 0.]\n",
       " [0. 0. 0. 0.]])\n",
       "  Block([[1.04062556 0.         0.         0.        ]\n",
       " [0.07966511 1.0375717  0.         0.        ]\n",
       " [0.07966511 0.07378288 1.03494498 0.        ]\n",
       " [0.07966511 0.07378288 0.06871004 1.03266163]])]])"
      ]
     },
     "execution_count": 28,
     "metadata": {},
     "output_type": "execute_result"
    }
   ],
   "source": [
    "cholesky_nums(app,A)"
   ]
  },
  {
   "cell_type": "code",
   "execution_count": null,
   "metadata": {},
   "outputs": [],
   "source": []
  }
 ],
 "metadata": {
  "kernelspec": {
   "display_name": "Python 3",
   "language": "python",
   "name": "python3"
  },
  "language_info": {
   "codemirror_mode": {
    "name": "ipython",
    "version": 3
   },
   "file_extension": ".py",
   "mimetype": "text/x-python",
   "name": "python",
   "nbconvert_exporter": "python",
   "pygments_lexer": "ipython3",
   "version": "3.7.10"
  },
  "metadata": {
   "interpreter": {
    "hash": "a09733dcee0d76fd3a9d46ed1f8e179cd86892e1a2573132e7eb7703a8ead615"
   }
  }
 },
 "nbformat": 4,
 "nbformat_minor": 2
}
